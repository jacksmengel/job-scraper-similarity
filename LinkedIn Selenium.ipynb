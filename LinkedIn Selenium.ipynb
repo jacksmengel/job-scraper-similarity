{
 "cells": [
  {
   "cell_type": "code",
   "execution_count": 4,
   "metadata": {},
   "outputs": [
    {
     "name": "stderr",
     "output_type": "stream",
     "text": [
      "<ipython-input-4-b6a7ec156ed1>:6: FutureWarning: The pandas.datetime class is deprecated and will be removed from pandas in a future version. Import from datetime module instead.\n",
      "  from pandas import datetime\n",
      "[nltk_data] Downloading package punkt to\n",
      "[nltk_data]     C:\\Users\\18477\\AppData\\Roaming\\nltk_data...\n",
      "[nltk_data]   Package punkt is already up-to-date!\n",
      "[nltk_data] Downloading package stopwords to\n",
      "[nltk_data]     C:\\Users\\18477\\AppData\\Roaming\\nltk_data...\n",
      "[nltk_data]   Package stopwords is already up-to-date!\n",
      "[nltk_data] Downloading package wordnet to\n",
      "[nltk_data]     C:\\Users\\18477\\AppData\\Roaming\\nltk_data...\n",
      "[nltk_data]   Package wordnet is already up-to-date!\n"
     ]
    }
   ],
   "source": [
    "from linkedin_api import Linkedin\n",
    "from selenium import webdriver\n",
    "import time\n",
    "import json\n",
    "import pandas as pd\n",
    "from pandas import datetime\n",
    "import numpy as np\n",
    "from bs4 import BeautifulSoup\n",
    "from selenium.webdriver.common.by import By\n",
    "from webdriver_manager.chrome import ChromeDriverManager\n",
    "pd.set_option('display.float_format', lambda x: '%.3f' % x)\n",
    "\n",
    "import os\n",
    "from nltk.corpus import stopwords\n",
    "from nltk.tokenize import word_tokenize\n",
    "from nltk.stem import WordNetLemmatizer\n",
    "from nltk.stem import PorterStemmer\n",
    "import re\n",
    "import nltk\n",
    "import string\n",
    "from nltk.tokenize import sent_tokenize, word_tokenize\n",
    "nltk.download('punkt')\n",
    "nltk.download('stopwords')\n",
    "nltk.download('wordnet')\n",
    "\n",
    "pd.set_option('display.max_colwidth', None)"
   ]
  },
  {
   "cell_type": "code",
   "execution_count": 5,
   "metadata": {},
   "outputs": [
    {
     "name": "stderr",
     "output_type": "stream",
     "text": [
      "[WDM] - Downloading:  56%|█████▌    | 3.54M/6.30M [00:00<00:00, 6.03MB/s]"
     ]
    }
   ],
   "source": [
    "wd = webdriver.Chrome(ChromeDriverManager().install())"
   ]
  },
  {
   "cell_type": "code",
   "execution_count": 6,
   "metadata": {},
   "outputs": [
    {
     "name": "stderr",
     "output_type": "stream",
     "text": [
      "[WDM] - Downloading: 100%|██████████| 6.30M/6.30M [00:04<00:00, 1.34MB/s]\n"
     ]
    }
   ],
   "source": [
    "time.sleep(3)\n",
    "linkedin_email = 'youremail@gmail.com'\n",
    "linkedin_pw = 'gobears'\n",
    "api = Linkedin(linkedin_email, linkedin_pw)"
   ]
  },
  {
   "cell_type": "code",
   "execution_count": 8,
   "metadata": {},
   "outputs": [],
   "source": [
    "time.sleep(5)\n",
    "jobs = api.search_jobs(\n",
    "    keywords = 'data scientist',\n",
    "    job_type = 'F',\n",
    "    experience = '2|3|4',\n",
    "    distance = 25,\n",
    "    limit = -1,\n",
    "    listed_at = 604800, #1week\n",
    "    location_name = 'Boston, Massachusetts, United States'\n",
    ")"
   ]
  },
  {
   "cell_type": "code",
   "execution_count": 9,
   "metadata": {},
   "outputs": [
    {
     "data": {
      "text/plain": [
       "(633, 1)"
      ]
     },
     "execution_count": 9,
     "metadata": {},
     "output_type": "execute_result"
    }
   ],
   "source": [
    "job_list = []\n",
    "\n",
    "#removed all remote jobs and data engineer jobs (my preference)\n",
    "for i in range(len(jobs)):\n",
    "    if (jobs[i]['workRemoteAllowed'] == False) & ('Data Engineer' not in jobs[i]['title']):\n",
    "        a = jobs[i]['dashEntityUrn']\n",
    "        ix = 0\n",
    "        for ii in range(len(a)-1,0,-1):\n",
    "            if a[ii] == ':':\n",
    "                ix = ii+1\n",
    "                break\n",
    "\n",
    "        result = a[ix:]\n",
    "        job_list.append(result)\n",
    "        \n",
    "df = pd.DataFrame({'job_id':job_list})\n",
    "df.shape"
   ]
  },
  {
   "cell_type": "code",
   "execution_count": 10,
   "metadata": {},
   "outputs": [],
   "source": [
    "def get_job_desc(job_id,ix):\n",
    "    time.sleep(3)\n",
    "    print(ix)\n",
    "    url = 'https://www.linkedin.com/jobs/view/' + job_id\n",
    "    try:\n",
    "        wd.get(url)\n",
    "        desc = wd.find_element(By.CLASS_NAME,'show-more-less-html__markup').get_attribute('innerText')\n",
    "        title = wd.find_element(By.CLASS_NAME,'topcard__title').get_attribute('innerText')\n",
    "        company = wd.find_element(By.CLASS_NAME,'topcard__org-name-link').get_attribute('innerText').strip()\n",
    "        return pd.Series([desc,title,company])\n",
    "    except:\n",
    "        return pd.Series(['','',''])"
   ]
  },
  {
   "cell_type": "code",
   "execution_count": null,
   "metadata": {},
   "outputs": [],
   "source": [
    "job_meta = df.apply(lambda x: get_job_desc(x['job_id'],x.name), axis = 1)\n",
    "job_meta.columns = ['desc_raw','title','company']\n",
    "df = pd.concat([df,job_meta],axis=1)"
   ]
  },
  {
   "cell_type": "code",
   "execution_count": 13,
   "metadata": {},
   "outputs": [],
   "source": [
    "ps = PorterStemmer()\n",
    "\n",
    "def stemSentence(sentence):\n",
    "    token_words=word_tokenize(sentence)\n",
    "    token_words\n",
    "    stem_sentence=[]\n",
    "    for word in token_words:\n",
    "        stem_sentence.append(ps.stem(word))\n",
    "        stem_sentence.append(\" \")\n",
    "    return \"\".join(stem_sentence)\n",
    "\n",
    "def preprocess_text(text):\n",
    "    try:\n",
    "        # Convert to lowercase\n",
    "        text = text.lower()\n",
    "\n",
    "        # Remove punctuation\n",
    "        text = text.translate(str.maketrans('', '', string.punctuation))\n",
    "\n",
    "        # Tokenize words\n",
    "        words = word_tokenize(text)\n",
    "\n",
    "        # Remove stopwords\n",
    "        stop_words = set(stopwords.words('english'))\n",
    "        words = [word for word in words if word not in stop_words]\n",
    "\n",
    "        # Lemmatize words\n",
    "        lemmatizer = WordNetLemmatizer()\n",
    "        words = [lemmatizer.lemmatize(word) for word in words]\n",
    "\n",
    "        # Reconstruct the text\n",
    "        preprocessed_text = ' '.join(words)\n",
    "\n",
    "        # remove numbers\n",
    "        preprocessed_text = ''.join([i for i in preprocessed_text if not i.isdigit()])\n",
    "\n",
    "        preprocessed_text=stemSentence(preprocessed_text)\n",
    "\n",
    "        return preprocessed_text\n",
    "    except:\n",
    "        return np.NaN"
   ]
  },
  {
   "cell_type": "code",
   "execution_count": 15,
   "metadata": {},
   "outputs": [],
   "source": [
    "import docx2txt\n",
    "resume_loc = r'C:\\Users\\18477\\OneDrive\\Desktop\\Upwork\\Jack S Mengel - Resume.docx'\n",
    "text = docx2txt.process(resume_loc)\n",
    "\n",
    "df = pd.concat(\n",
    "    [\n",
    "        df,\n",
    "        pd.DataFrame({\n",
    "            'job_id':[1],\n",
    "            'desc_raw':text,\n",
    "            'title':'fun guy',\n",
    "            'company':'prestige worldwide'\n",
    "        })\n",
    "    ],\n",
    "    axis=0\n",
    ")"
   ]
  },
  {
   "cell_type": "code",
   "execution_count": 16,
   "metadata": {},
   "outputs": [
    {
     "name": "stderr",
     "output_type": "stream",
     "text": [
      "INFO:numexpr.utils:Note: NumExpr detected 12 cores but \"NUMEXPR_MAX_THREADS\" not set, so enforcing safe limit of 8.\n",
      "INFO:numexpr.utils:NumExpr defaulting to 8 threads.\n"
     ]
    }
   ],
   "source": [
    "from sklearn.feature_extraction.text import CountVectorizer\n",
    "from sklearn.feature_extraction.text import TfidfVectorizer\n",
    "import nltk\n",
    "from nltk.corpus import stopwords\n",
    "\n",
    "df['desc'] = df['desc_raw'].apply(preprocess_text)\n",
    "df.dropna(inplace=True)\n",
    "\n",
    "vectorizer = CountVectorizer()\n",
    "bow = vectorizer.fit_transform(df['desc'])\n",
    "bow_df = pd.DataFrame(bow.toarray(),columns=vectorizer.get_feature_names()).reset_index(drop = True)\n",
    "df=df.reset_index(drop=True)\n",
    "bow_df = bow_df.select_dtypes(exclude=['object'])\n",
    "cols = bow_df.columns\n",
    "bow_df['job_id'] = df['job_id']\n",
    "bow_df['position_fill'] = df['title']\n",
    "bow_df['company_fill'] = df['company']\n",
    "\n",
    "df['job_id'] = df['job_id'].astype(float)\n",
    "bow_df['job_id'] = bow_df['job_id'].astype(float)"
   ]
  },
  {
   "cell_type": "code",
   "execution_count": 17,
   "metadata": {},
   "outputs": [],
   "source": [
    "A = bow_df.loc[bow_df['job_id'] == 1,cols]\n",
    "from sklearn.metrics.pairwise import cosine_similarity\n",
    "\n",
    "def get_similarity(job_id):\n",
    "    try:\n",
    "        B = bow_df.loc[bow_df['job_id'] == job_id,cols]\n",
    "        return cosine_similarity(A,B)[0][0]\n",
    "    except:\n",
    "        return 0"
   ]
  },
  {
   "cell_type": "code",
   "execution_count": 18,
   "metadata": {},
   "outputs": [],
   "source": [
    "df['similarity'] = df.apply(lambda x: get_similarity(x['job_id']), axis = 1)\n",
    "df['url'] = 'https://www.linkedin.com/jobs/view/' + df['job_id']"
   ]
  },
  {
   "cell_type": "code",
   "execution_count": 19,
   "metadata": {},
   "outputs": [
    {
     "data": {
      "text/plain": [
       "(array([ 29.,  82., 341., 118.,  57.,   6.,   0.,   0.,   0.,   1.]),\n",
       " array([0. , 0.1, 0.2, 0.3, 0.4, 0.5, 0.6, 0.7, 0.8, 0.9, 1. ]),\n",
       " <BarContainer object of 10 artists>)"
      ]
     },
     "execution_count": 19,
     "metadata": {},
     "output_type": "execute_result"
    },
    {
     "data": {
      "image/png": "[encoded data removed]",
      "text/plain": [
       "<Figure size 432x288 with 1 Axes>"
      ]
     },
     "metadata": {
      "needs_background": "light"
     },
     "output_type": "display_data"
    }
   ],
   "source": [
    "import matplotlib.pyplot as plt\n",
    "plt.hist(df['similarity'])"
   ]
  },
  {
   "cell_type": "code",
   "execution_count": 20,
   "metadata": {},
   "outputs": [],
   "source": [
    "#Write results to disc\n",
    "df[['job_id','url','similarity','company','title']].sort_values(by='similarity',ascending=False).to_csv(r'C:\\Users\\18477\\OneDrive\\Desktop\\LinkedIn\\job_desc_' + str(datetime.now().strftime('%Y_%m_%d_%H_%M_%S')) + '.csv', index = False)"
   ]
  }
 ],
 "metadata": {
  "kernelspec": {
   "display_name": "Python 3",
   "language": "python",
   "name": "python3"
  },
  "language_info": {
   "codemirror_mode": {
    "name": "ipython",
    "version": 3
   },
   "file_extension": ".py",
   "mimetype": "text/x-python",
   "name": "python",
   "nbconvert_exporter": "python",
   "pygments_lexer": "ipython3",
   "version": "3.8.5"
  }
 },
 "nbformat": 4,
 "nbformat_minor": 4
}
